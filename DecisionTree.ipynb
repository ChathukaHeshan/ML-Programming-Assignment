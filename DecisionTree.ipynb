{
 "cells": [
  {
   "cell_type": "code",
   "execution_count": 4,
   "id": "8ff37bf1",
   "metadata": {},
   "outputs": [
    {
     "name": "stdout",
     "output_type": "stream",
     "text": [
      "Accuracy: 0.06\n"
     ]
    }
   ],
   "source": [
    "import pandas as pd\n",
    "from sklearn.model_selection import train_test_split\n",
    "from sklearn.tree import DecisionTreeClassifier\n",
    "from sklearn.metrics import accuracy_score\n",
    "\n",
    "# Load the data\n",
    "df = pd.read_csv(\"C:\\\\Users\\\\Chathuka Heshan\\\\Downloads\\\\archive (1)\\\\StudentsPerformance.csv\")\n",
    "\n",
    "# Convert categorical variables to numeric\n",
    "df[\"gender\"] = pd.get_dummies(df[\"gender\"], drop_first=True)\n",
    "df[\"race/ethnicity\"] = pd.factorize(df[\"race/ethnicity\"])[0]\n",
    "df[\"parental level of education\"] = pd.factorize(df[\"parental level of education\"])[0]\n",
    "df[\"lunch\"] = pd.get_dummies(df[\"lunch\"], drop_first=True)\n",
    "df[\"test preparation course\"] = pd.get_dummies(df[\"test preparation course\"], drop_first=True)\n",
    "\n",
    "# Split the data into training and testing sets\n",
    "X = df.drop(\"math score\", axis=1)\n",
    "y = df[\"math score\"]\n",
    "X_train, X_test, y_train, y_test = train_test_split(X, y, test_size=0.2, random_state=42)\n",
    "\n",
    "# Create the decision tree classifier and fit it to the training data\n",
    "clf = DecisionTreeClassifier(random_state=42)\n",
    "clf.fit(X_train, y_train)\n",
    "\n",
    "# Predict the test data using the trained classifier\n",
    "y_pred = clf.predict(X_test)\n",
    "\n",
    "# Calculate the accuracy of the classifier\n",
    "acc = accuracy_score(y_test, y_pred)\n",
    "print(f\"Accuracy: {acc}\")\n",
    "\n"
   ]
  },
  {
   "cell_type": "code",
   "execution_count": null,
   "id": "d6d7d459",
   "metadata": {},
   "outputs": [],
   "source": []
  },
  {
   "cell_type": "code",
   "execution_count": null,
   "id": "4aabf7f7",
   "metadata": {},
   "outputs": [],
   "source": []
  }
 ],
 "metadata": {
  "kernelspec": {
   "display_name": "Python 3 (ipykernel)",
   "language": "python",
   "name": "python3"
  },
  "language_info": {
   "codemirror_mode": {
    "name": "ipython",
    "version": 3
   },
   "file_extension": ".py",
   "mimetype": "text/x-python",
   "name": "python",
   "nbconvert_exporter": "python",
   "pygments_lexer": "ipython3",
   "version": "3.9.13"
  }
 },
 "nbformat": 4,
 "nbformat_minor": 5
}
