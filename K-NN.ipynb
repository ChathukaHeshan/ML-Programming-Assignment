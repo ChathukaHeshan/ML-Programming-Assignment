{
 "cells": [
  {
   "cell_type": "code",
   "execution_count": 7,
   "id": "5d744746",
   "metadata": {},
   "outputs": [
    {
     "name": "stdout",
     "output_type": "stream",
     "text": [
      "Mean Squared Error: 237.2418\n"
     ]
    }
   ],
   "source": [
    "import pandas as pd\n",
    "from sklearn.model_selection import train_test_split\n",
    "from sklearn.neighbors import KNeighborsRegressor\n",
    "from sklearn.metrics import mean_squared_error\n",
    "from sklearn.preprocessing import OneHotEncoder\n",
    "\n",
    "# Load the data\n",
    "data = pd.read_csv(\"C:\\\\Users\\\\Chathuka Heshan\\\\Downloads\\\\archive (1)\\\\StudentsPerformance.csv\")\n",
    "\n",
    "# Define the target variable and the features\n",
    "target = 'math score'\n",
    "features = ['gender', 'race/ethnicity', 'parental level of education', 'lunch', 'test preparation course']\n",
    "\n",
    "# One-hot encode the categorical variables\n",
    "encoder = OneHotEncoder()\n",
    "encoded_data = encoder.fit_transform(data[features])\n",
    "\n",
    "# Split the data into training and testing sets\n",
    "train_data, test_data, train_target, test_target = train_test_split(encoded_data, data[target], test_size=0.2)\n",
    "\n",
    "# Train the K-NN model\n",
    "model = KNeighborsRegressor(n_neighbors=5).fit(train_data, train_target)\n",
    "\n",
    "# Make predictions on the testing set\n",
    "predictions = model.predict(test_data)\n",
    "\n",
    "# Calculate the mean squared error\n",
    "mse = mean_squared_error(test_target, predictions)\n",
    "print(\"Mean Squared Error:\", mse)\n"
   ]
  },
  {
   "cell_type": "code",
   "execution_count": null,
   "id": "57cd8b98",
   "metadata": {},
   "outputs": [],
   "source": []
  }
 ],
 "metadata": {
  "kernelspec": {
   "display_name": "Python 3 (ipykernel)",
   "language": "python",
   "name": "python3"
  },
  "language_info": {
   "codemirror_mode": {
    "name": "ipython",
    "version": 3
   },
   "file_extension": ".py",
   "mimetype": "text/x-python",
   "name": "python",
   "nbconvert_exporter": "python",
   "pygments_lexer": "ipython3",
   "version": "3.9.13"
  }
 },
 "nbformat": 4,
 "nbformat_minor": 5
}
