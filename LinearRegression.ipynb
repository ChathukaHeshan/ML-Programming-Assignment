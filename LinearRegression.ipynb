{
 "cells": [
  {
   "cell_type": "code",
   "execution_count": 1,
   "id": "34573826",
   "metadata": {},
   "outputs": [
    {
     "name": "stdout",
     "output_type": "stream",
     "text": [
      "   gender race/ethnicity parental level of education         lunch  \\\n",
      "0  female        group B           bachelor's degree      standard   \n",
      "1  female        group C                some college      standard   \n",
      "2  female        group B             master's degree      standard   \n",
      "3    male        group A          associate's degree  free/reduced   \n",
      "4    male        group C                some college      standard   \n",
      "\n",
      "  test preparation course  math score  reading score  writing score  \n",
      "0                    none          72             72             74  \n",
      "1               completed          69             90             88  \n",
      "2                    none          90             95             93  \n",
      "3                    none          47             57             44  \n",
      "4                    none          76             78             75  \n",
      "R2 score of the linear regression model is 0.9265392813295749\n"
     ]
    }
   ],
   "source": [
    "# Importing the necessary libraries\n",
    "import pandas as pd\n",
    "import numpy as np\n",
    "from sklearn.model_selection import train_test_split\n",
    "from sklearn.linear_model import LinearRegression\n",
    "from sklearn.metrics import r2_score\n",
    "\n",
    "# Loading the dataset\n",
    "data = pd.read_csv(\"C:\\\\Users\\\\Chathuka Heshan\\\\Downloads\\\\archive (1)\\\\StudentsPerformance.csv\")\n",
    "\n",
    "# Exploring the dataset\n",
    "print(data.head())\n",
    "\n",
    "# Splitting the dataset into training and testing data\n",
    "X_train, X_test, y_train, y_test = train_test_split(data[[\"math score\", \"reading score\"]], data[\"writing score\"], test_size=0.2, random_state=0)\n",
    "\n",
    "# Creating a linear regression object\n",
    "regressor = LinearRegression()\n",
    "\n",
    "# Fitting the linear regression object on the training data\n",
    "regressor.fit(X_train, y_train)\n",
    "\n",
    "# Predicting the test data using the linear regression object\n",
    "y_pred = regressor.predict(X_test)\n",
    "\n",
    "# Computing the R2 score of the linear regression model\n",
    "r2_score = r2_score(y_test, y_pred)\n",
    "\n",
    "# Printing the R2 score\n",
    "print(\"R2 score of the linear regression model is\", r2_score)\n"
   ]
  },
  {
   "cell_type": "code",
   "execution_count": null,
   "id": "8838642e",
   "metadata": {},
   "outputs": [],
   "source": []
  }
 ],
 "metadata": {
  "kernelspec": {
   "display_name": "Python 3 (ipykernel)",
   "language": "python",
   "name": "python3"
  },
  "language_info": {
   "codemirror_mode": {
    "name": "ipython",
    "version": 3
   },
   "file_extension": ".py",
   "mimetype": "text/x-python",
   "name": "python",
   "nbconvert_exporter": "python",
   "pygments_lexer": "ipython3",
   "version": "3.9.13"
  }
 },
 "nbformat": 4,
 "nbformat_minor": 5
}
